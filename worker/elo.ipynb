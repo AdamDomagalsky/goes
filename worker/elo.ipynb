{
 "cells": [
  {
   "cell_type": "code",
   "execution_count": null,
   "metadata": {},
   "outputs": [],
   "source": [
    "def solution (n, ratings):\n",
    "    # Write your code here\n",
    "    avg_ratings = {}\n",
    "    print(ratings)\n",
    "\n",
    "    \n",
    "    # for el in ratings:\n",
    "        # id, \n",
    "\n",
    "solution(4, [[512,3], [123,4],[987,4],[123,5]])"
   ]
  }
 ],
 "metadata": {
  "language_info": {
   "name": "python"
  },
  "orig_nbformat": 4
 },
 "nbformat": 4,
 "nbformat_minor": 2
}
